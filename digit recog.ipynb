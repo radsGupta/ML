{
 "cells": [
  {
   "cell_type": "code",
   "execution_count": 1,
   "metadata": {
    "collapsed": true
   },
   "outputs": [],
   "source": [
    "from sklearn import datasets\n",
    "import numpy as np"
   ]
  },
  {
   "cell_type": "code",
   "execution_count": 2,
   "metadata": {
    "collapsed": true
   },
   "outputs": [],
   "source": [
    "from sklearn.svm import SVC"
   ]
  },
  {
   "cell_type": "code",
   "execution_count": 39,
   "metadata": {
    "collapsed": true
   },
   "outputs": [],
   "source": [
    "from scipy import misc"
   ]
  },
  {
   "cell_type": "code",
   "execution_count": 40,
   "metadata": {},
   "outputs": [
    {
     "data": {
      "text/plain": [
       "'C:\\\\Users\\\\Rads Gupta'"
      ]
     },
     "execution_count": 40,
     "metadata": {},
     "output_type": "execute_result"
    }
   ],
   "source": [
    "pwd\n"
   ]
  },
  {
   "cell_type": "code",
   "execution_count": 88,
   "metadata": {
    "collapsed": true
   },
   "outputs": [],
   "source": [
    "myimage=misc.imread(\"1.png\")"
   ]
  },
  {
   "cell_type": "code",
   "execution_count": 89,
   "metadata": {},
   "outputs": [
    {
     "data": {
      "text/plain": [
       "(648, 1152, 3)"
      ]
     },
     "execution_count": 89,
     "metadata": {},
     "output_type": "execute_result"
    }
   ],
   "source": [
    "myimage.shape"
   ]
  },
  {
   "cell_type": "code",
   "execution_count": 90,
   "metadata": {
    "collapsed": true
   },
   "outputs": [],
   "source": [
    "mynewimage=misc.imresize(myimage,(8,8))"
   ]
  },
  {
   "cell_type": "code",
   "execution_count": 91,
   "metadata": {},
   "outputs": [
    {
     "data": {
      "text/plain": [
       "(8, 8, 3)"
      ]
     },
     "execution_count": 91,
     "metadata": {},
     "output_type": "execute_result"
    }
   ],
   "source": [
    "mynewimage.shape"
   ]
  },
  {
   "cell_type": "code",
   "execution_count": 92,
   "metadata": {},
   "outputs": [
    {
     "data": {
      "text/plain": [
       "dtype('uint8')"
      ]
     },
     "execution_count": 92,
     "metadata": {},
     "output_type": "execute_result"
    }
   ],
   "source": [
    "mynewimage.dtype"
   ]
  },
  {
   "cell_type": "code",
   "execution_count": 93,
   "metadata": {
    "collapsed": true
   },
   "outputs": [],
   "source": [
    "mydata=datasets.load_digits()"
   ]
  },
  {
   "cell_type": "code",
   "execution_count": 94,
   "metadata": {
    "collapsed": true
   },
   "outputs": [],
   "source": [
    "mynewimage=mynewimage.astype(mydata.images.dtype)"
   ]
  },
  {
   "cell_type": "code",
   "execution_count": 95,
   "metadata": {},
   "outputs": [
    {
     "data": {
      "text/plain": [
       "dtype('float64')"
      ]
     },
     "execution_count": 95,
     "metadata": {},
     "output_type": "execute_result"
    }
   ],
   "source": [
    "mynewimage.dtype"
   ]
  },
  {
   "cell_type": "code",
   "execution_count": 96,
   "metadata": {},
   "outputs": [
    {
     "data": {
      "text/plain": [
       "array([[[ 216.,  216.,  216.],\n",
       "        [ 181.,  181.,  181.],\n",
       "        [ 241.,  241.,  241.],\n",
       "        [ 255.,  255.,  255.],\n",
       "        [ 255.,  255.,  255.],\n",
       "        [ 255.,  255.,  255.],\n",
       "        [ 255.,  255.,  255.],\n",
       "        [ 255.,  255.,  255.]],\n",
       "\n",
       "       [[ 138.,  138.,  138.],\n",
       "        [  37.,   37.,   37.],\n",
       "        [ 211.,  211.,  211.],\n",
       "        [ 255.,  255.,  255.],\n",
       "        [ 255.,  255.,  255.],\n",
       "        [ 255.,  255.,  255.],\n",
       "        [ 255.,  255.,  255.],\n",
       "        [ 255.,  255.,  255.]],\n",
       "\n",
       "       [[ 134.,  134.,  134.],\n",
       "        [  31.,   31.,   31.],\n",
       "        [ 210.,  210.,  210.],\n",
       "        [ 255.,  255.,  255.],\n",
       "        [ 255.,  255.,  255.],\n",
       "        [ 255.,  255.,  255.],\n",
       "        [ 255.,  255.,  255.],\n",
       "        [ 255.,  255.,  255.]],\n",
       "\n",
       "       [[ 151.,  151.,  151.],\n",
       "        [  62.,   62.,   62.],\n",
       "        [ 217.,  217.,  217.],\n",
       "        [ 255.,  255.,  255.],\n",
       "        [ 255.,  255.,  255.],\n",
       "        [ 255.,  255.,  255.],\n",
       "        [ 255.,  255.,  255.],\n",
       "        [ 255.,  255.,  255.]],\n",
       "\n",
       "       [[ 242.,  242.,  242.],\n",
       "        [ 231.,  231.,  231.],\n",
       "        [ 250.,  250.,  250.],\n",
       "        [ 255.,  255.,  255.],\n",
       "        [ 255.,  255.,  255.],\n",
       "        [ 255.,  255.,  255.],\n",
       "        [ 255.,  255.,  255.],\n",
       "        [ 255.,  255.,  255.]],\n",
       "\n",
       "       [[ 255.,  255.,  255.],\n",
       "        [ 255.,  255.,  255.],\n",
       "        [ 255.,  255.,  255.],\n",
       "        [ 255.,  255.,  255.],\n",
       "        [ 255.,  255.,  255.],\n",
       "        [ 255.,  255.,  255.],\n",
       "        [ 255.,  255.,  255.],\n",
       "        [ 255.,  255.,  255.]],\n",
       "\n",
       "       [[ 255.,  255.,  255.],\n",
       "        [ 255.,  255.,  255.],\n",
       "        [ 255.,  255.,  255.],\n",
       "        [ 255.,  255.,  255.],\n",
       "        [ 255.,  255.,  255.],\n",
       "        [ 255.,  255.,  255.],\n",
       "        [ 255.,  255.,  255.],\n",
       "        [ 255.,  255.,  255.]],\n",
       "\n",
       "       [[ 255.,  255.,  255.],\n",
       "        [ 255.,  255.,  255.],\n",
       "        [ 255.,  255.,  255.],\n",
       "        [ 255.,  255.,  255.],\n",
       "        [ 255.,  255.,  255.],\n",
       "        [ 255.,  255.,  255.],\n",
       "        [ 255.,  255.,  255.],\n",
       "        [ 255.,  255.,  255.]]])"
      ]
     },
     "execution_count": 96,
     "metadata": {},
     "output_type": "execute_result"
    }
   ],
   "source": [
    "mynewimage"
   ]
  },
  {
   "cell_type": "code",
   "execution_count": 97,
   "metadata": {
    "collapsed": true
   },
   "outputs": [],
   "source": [
    "mynewimage=misc.bytescale(mynewimage,high=16,low=0)"
   ]
  },
  {
   "cell_type": "code",
   "execution_count": 98,
   "metadata": {},
   "outputs": [
    {
     "data": {
      "text/plain": [
       "array([[[13, 13, 13],\n",
       "        [11, 11, 11],\n",
       "        [15, 15, 15],\n",
       "        [16, 16, 16],\n",
       "        [16, 16, 16],\n",
       "        [16, 16, 16],\n",
       "        [16, 16, 16],\n",
       "        [16, 16, 16]],\n",
       "\n",
       "       [[ 8,  8,  8],\n",
       "        [ 0,  0,  0],\n",
       "        [13, 13, 13],\n",
       "        [16, 16, 16],\n",
       "        [16, 16, 16],\n",
       "        [16, 16, 16],\n",
       "        [16, 16, 16],\n",
       "        [16, 16, 16]],\n",
       "\n",
       "       [[ 7,  7,  7],\n",
       "        [ 0,  0,  0],\n",
       "        [13, 13, 13],\n",
       "        [16, 16, 16],\n",
       "        [16, 16, 16],\n",
       "        [16, 16, 16],\n",
       "        [16, 16, 16],\n",
       "        [16, 16, 16]],\n",
       "\n",
       "       [[ 9,  9,  9],\n",
       "        [ 2,  2,  2],\n",
       "        [13, 13, 13],\n",
       "        [16, 16, 16],\n",
       "        [16, 16, 16],\n",
       "        [16, 16, 16],\n",
       "        [16, 16, 16],\n",
       "        [16, 16, 16]],\n",
       "\n",
       "       [[15, 15, 15],\n",
       "        [14, 14, 14],\n",
       "        [16, 16, 16],\n",
       "        [16, 16, 16],\n",
       "        [16, 16, 16],\n",
       "        [16, 16, 16],\n",
       "        [16, 16, 16],\n",
       "        [16, 16, 16]],\n",
       "\n",
       "       [[16, 16, 16],\n",
       "        [16, 16, 16],\n",
       "        [16, 16, 16],\n",
       "        [16, 16, 16],\n",
       "        [16, 16, 16],\n",
       "        [16, 16, 16],\n",
       "        [16, 16, 16],\n",
       "        [16, 16, 16]],\n",
       "\n",
       "       [[16, 16, 16],\n",
       "        [16, 16, 16],\n",
       "        [16, 16, 16],\n",
       "        [16, 16, 16],\n",
       "        [16, 16, 16],\n",
       "        [16, 16, 16],\n",
       "        [16, 16, 16],\n",
       "        [16, 16, 16]],\n",
       "\n",
       "       [[16, 16, 16],\n",
       "        [16, 16, 16],\n",
       "        [16, 16, 16],\n",
       "        [16, 16, 16],\n",
       "        [16, 16, 16],\n",
       "        [16, 16, 16],\n",
       "        [16, 16, 16],\n",
       "        [16, 16, 16]]], dtype=uint8)"
      ]
     },
     "execution_count": 98,
     "metadata": {},
     "output_type": "execute_result"
    }
   ],
   "source": [
    "mynewimage"
   ]
  },
  {
   "cell_type": "code",
   "execution_count": 99,
   "metadata": {
    "collapsed": true
   },
   "outputs": [],
   "source": [
    "mynewimage=mynewimage.astype(mydata.images.dtype)"
   ]
  },
  {
   "cell_type": "code",
   "execution_count": 100,
   "metadata": {},
   "outputs": [
    {
     "data": {
      "text/plain": [
       "dtype('float64')"
      ]
     },
     "execution_count": 100,
     "metadata": {},
     "output_type": "execute_result"
    }
   ],
   "source": [
    "mynewimage.dtype"
   ]
  },
  {
   "cell_type": "code",
   "execution_count": 101,
   "metadata": {},
   "outputs": [
    {
     "data": {
      "text/plain": [
       "8"
      ]
     },
     "execution_count": 101,
     "metadata": {},
     "output_type": "execute_result"
    }
   ],
   "source": [
    "len(mynewimage)"
   ]
  },
  {
   "cell_type": "code",
   "execution_count": 102,
   "metadata": {},
   "outputs": [
    {
     "data": {
      "text/plain": [
       "array([[  0.,   0.,  10.,  14.,   8.,   1.,   0.,   0.],\n",
       "       [  0.,   2.,  16.,  14.,   6.,   1.,   0.,   0.],\n",
       "       [  0.,   0.,  15.,  15.,   8.,  15.,   0.,   0.],\n",
       "       [  0.,   0.,   5.,  16.,  16.,  10.,   0.,   0.],\n",
       "       [  0.,   0.,  12.,  15.,  15.,  12.,   0.,   0.],\n",
       "       [  0.,   4.,  16.,   6.,   4.,  16.,   6.,   0.],\n",
       "       [  0.,   8.,  16.,  10.,   8.,  16.,   8.,   0.],\n",
       "       [  0.,   1.,   8.,  12.,  14.,  12.,   1.,   0.]])"
      ]
     },
     "execution_count": 102,
     "metadata": {},
     "output_type": "execute_result"
    }
   ],
   "source": [
    "mydata.images[-1]"
   ]
  },
  {
   "cell_type": "code",
   "execution_count": 103,
   "metadata": {
    "collapsed": true
   },
   "outputs": [],
   "source": [
    "xtest=[]"
   ]
  },
  {
   "cell_type": "code",
   "execution_count": 104,
   "metadata": {
    "collapsed": true
   },
   "outputs": [],
   "source": [
    "for eachRow in mynewimage:\n",
    "    for eachPixel in eachRow:\n",
    "        xtest.append(sum(eachPixel)/3.0)\n",
    "    "
   ]
  },
  {
   "cell_type": "code",
   "execution_count": 105,
   "metadata": {
    "collapsed": true
   },
   "outputs": [],
   "source": [
    "\n",
    "xfeature=mydata.data"
   ]
  },
  {
   "cell_type": "code",
   "execution_count": 106,
   "metadata": {
    "collapsed": true
   },
   "outputs": [],
   "source": [
    "ytarget=mydata.target"
   ]
  },
  {
   "cell_type": "code",
   "execution_count": 107,
   "metadata": {
    "collapsed": true
   },
   "outputs": [],
   "source": [
    "mysvc=SVC(gamma=0.001)"
   ]
  },
  {
   "cell_type": "code",
   "execution_count": 108,
   "metadata": {
    "collapsed": true
   },
   "outputs": [],
   "source": [
    "mymodel=mysvc.fit(xfeature,ytarget)"
   ]
  },
  {
   "cell_type": "code",
   "execution_count": 109,
   "metadata": {},
   "outputs": [
    {
     "name": "stderr",
     "output_type": "stream",
     "text": [
      "C:\\Users\\Rads Gupta\\Anaconda3\\lib\\site-packages\\sklearn\\utils\\validation.py:395: DeprecationWarning: Passing 1d arrays as data is deprecated in 0.17 and will raise ValueError in 0.19. Reshape your data either using X.reshape(-1, 1) if your data has a single feature or X.reshape(1, -1) if it contains a single sample.\n",
      "  DeprecationWarning)\n"
     ]
    },
    {
     "data": {
      "text/plain": [
       "array([1])"
      ]
     },
     "execution_count": 109,
     "metadata": {},
     "output_type": "execute_result"
    }
   ],
   "source": [
    "mymodel.predict(xtest)"
   ]
  },
  {
   "cell_type": "code",
   "execution_count": null,
   "metadata": {
    "collapsed": true
   },
   "outputs": [],
   "source": []
  },
  {
   "cell_type": "code",
   "execution_count": null,
   "metadata": {
    "collapsed": true
   },
   "outputs": [],
   "source": []
  },
  {
   "cell_type": "code",
   "execution_count": null,
   "metadata": {
    "collapsed": true
   },
   "outputs": [],
   "source": []
  }
 ],
 "metadata": {
  "kernelspec": {
   "display_name": "Python 3",
   "language": "python",
   "name": "python3"
  },
  "language_info": {
   "codemirror_mode": {
    "name": "ipython",
    "version": 3
   },
   "file_extension": ".py",
   "mimetype": "text/x-python",
   "name": "python",
   "nbconvert_exporter": "python",
   "pygments_lexer": "ipython3",
   "version": "3.6.1"
  }
 },
 "nbformat": 4,
 "nbformat_minor": 2
}
