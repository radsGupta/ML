{
 "cells": [
  {
   "cell_type": "code",
   "execution_count": 57,
   "metadata": {
    "collapsed": true
   },
   "outputs": [],
   "source": [
    "import numpy as np"
   ]
  },
  {
   "cell_type": "code",
   "execution_count": 58,
   "metadata": {
    "collapsed": true
   },
   "outputs": [],
   "source": [
    "import pandas as pd"
   ]
  },
  {
   "cell_type": "code",
   "execution_count": 59,
   "metadata": {
    "collapsed": true
   },
   "outputs": [],
   "source": [
    "mydata=pd.read_csv(r\"C:\\Users\\Rads Gupta\\Downloads\\DataSets-master\\DataSets-master\\Housing_Data.csv\")"
   ]
  },
  {
   "cell_type": "code",
   "execution_count": 60,
   "metadata": {
    "collapsed": true
   },
   "outputs": [],
   "source": [
    "i=mydata.iloc[:,2].values"
   ]
  },
  {
   "cell_type": "code",
   "execution_count": 61,
   "metadata": {},
   "outputs": [
    {
     "data": {
      "text/plain": [
       "array([ 5850,  4000,  3060,  6650,  6360,  4160,  3880,  4160,  4800,\n",
       "        5500,  7200,  3000,  1700,  2880,  3600,  3185,  3300,  5200,\n",
       "        3450,  3986,  4785,  4510,  4000,  3934,  4960,  3000,  3800,\n",
       "        4960,  3000,  4500,  3500,  3500,  4000,  4500,  6360,  4500,\n",
       "        4032,  5170,  5400,  3150,  3745,  4520,  4640,  8580,  2000,\n",
       "        2160,  3040,  3090,  4960,  3350,  5300,  4100,  9166,  4040,\n",
       "        3630,  3620,  2400,  7260,  4400,  2400,  4120,  4750,  4280,\n",
       "        4820,  5500,  5500,  5040,  6000,  2500,  4095,  4095,  3150,\n",
       "        1836,  2475,  3210,  3180,  1650,  3180,  3180,  6360,  4240,\n",
       "        3240,  3650,  3240,  3780,  6480,  5850,  3150,  3000,  3090,\n",
       "        6060,  5900,  7420,  8500,  8050,  6800,  8250,  8250,  3500,\n",
       "        2835,  4500,  3300,  4320,  3500,  4992,  4600,  3720,  3680,\n",
       "        3000,  3750,  5076,  4500,  5000,  4260,  6540,  3700,  3760,\n",
       "        4000,  4300,  6840,  4400, 10500,  4400,  4840,  4120,  4260,\n",
       "        5960,  8800,  4560,  4600,  4840,  3850,  4900,  3850,  3760,\n",
       "        6000,  4370,  7700,  2990,  3750,  3000,  2650,  4500,  4500,\n",
       "        4500,  4500,  2175,  4500,  4800,  4600,  3450,  3000,  3600,\n",
       "        3600,  3750,  2610,  2953,  2747,  1905,  3968,  3162,  6000,\n",
       "        2910,  2135,  3120,  4075,  3410,  2800,  2684,  3100,  3630,\n",
       "        1950,  2430,  4320,  3036,  3630,  5400,  3420,  3180,  3660,\n",
       "        4410,  3990,  4340,  3510,  3420,  3420,  5495,  3480,  7424,\n",
       "        3460,  3630,  3630,  3480,  3460,  3180,  3635,  3960,  4350,\n",
       "        3930,  3570,  3600,  2520,  3480,  3180,  3290,  4000,  2325,\n",
       "        4350,  3540,  3960,  2640,  2700,  2700,  3180,  3500,  3630,\n",
       "        6000,  3150,  3792,  3510,  3120,  3000,  4200,  2817,  3240,\n",
       "        2800,  3816,  3185,  6321,  3650,  4700,  6615,  3850,  3970,\n",
       "        3000,  4352,  3630,  3600,  3000,  3000,  2787,  3000,  4770,\n",
       "        3649,  3970,  2910,  3480,  6615,  3500,  3450,  3450,  3520,\n",
       "        6930,  4600,  4360,  3450,  4410,  4600,  3640,  6000,  5400,\n",
       "        3640,  3640,  4040,  3640,  3640,  5640,  3600,  3600,  4632,\n",
       "        3640,  4900,  4510,  4100,  3640,  5680,  6300,  4000,  3960,\n",
       "        5960,  5830,  4500,  4100,  6750,  9000,  2550,  7152,  6450,\n",
       "        3360,  3264,  4000,  4000,  3069,  4040,  4040,  3185,  5900,\n",
       "        3120,  5450,  4040,  4080,  8080,  4040,  4080,  5800,  5885,\n",
       "        9667,  3420,  5800,  7600,  5400,  4995,  3000,  5500,  6450,\n",
       "        6210,  5000,  5000,  5828,  5200,  5500,  6350,  8250,  6000,\n",
       "        7700,  8880,  8880,  6480,  7000,  8875,  7155,  8960,  7350,\n",
       "        3850,  7000,  7770,  7440,  7500,  8100,  3900,  2970,  3000,\n",
       "       10500,  5500,  4500,  3850,  4130,  4046,  4079,  4000,  9860,\n",
       "        7000,  7980,  6800,  4300, 10269,  6100,  6420, 12090,  6600,\n",
       "        6600,  8580,  9960, 10700, 15600, 13200,  9000,  7950, 16200,\n",
       "        6100,  6360,  6420,  6360,  6540,  6420,  6550,  5750,  7420,\n",
       "        7160,  4000,  9000,  6550, 13200,  7085,  6600,  6900, 11460,\n",
       "        7020,  6540,  8000,  9620, 10500,  5020,  7440,  6600,  7200,\n",
       "        6710,  6660,  7000,  7231,  7410,  7800,  6825,  6360,  6600,\n",
       "        6900,  6600,  6420,  6600,  6600,  9000,  6500,  6360,  5300,\n",
       "        2850,  6400, 11175,  6750,  7500,  6000, 10240,  5136,  3400,\n",
       "        2880,  3840,  2870,  5320,  3512,  3480,  3600,  3520,  5320,\n",
       "        6040, 11410,  8400,  5300,  7800,  3520,  5360,  6862,  3520,\n",
       "        4050,  3520,  4400,  5720, 11440,  7482,  5500,  4320,  5400,\n",
       "        4320,  4815,  6100,  7980,  6050,  3800,  5400,  6000,  2398,\n",
       "        2145,  2145,  2145,  2610,  1950,  2145,  2275,  2856,  2015,\n",
       "        2176,  2145,  2145,  2787,  9500,  4990,  6670,  6254, 10360,\n",
       "        5500,  5450,  5500,  6000,  5700,  6600,  4000,  4880,  4880,\n",
       "        8050,  8100,  5880,  5880, 12944,  6020,  4050,  8400,  5600,\n",
       "        5985,  4500,  4920,  8250,  8400,  6440,  8100,  6720,  5948,\n",
       "        8150,  4800,  9800,  8520,  8372,  4040,  4646,  4775,  4950,\n",
       "        5010,  6060,  3584,  6000,  6000,  6240,  6000,  7680,  6000,\n",
       "        6000,  6000,  6000,  7475,  5150,  6325,  6000,  6000,  6000,\n",
       "        7000, 12900,  7686,  5000,  5800,  6000,  4800,  6500,  7320,\n",
       "        6525,  4800,  6000,  6000,  6000,  6000])"
      ]
     },
     "execution_count": 61,
     "metadata": {},
     "output_type": "execute_result"
    }
   ],
   "source": [
    "i.astype(int)"
   ]
  },
  {
   "cell_type": "code",
   "execution_count": 62,
   "metadata": {},
   "outputs": [],
   "source": [
    "i=i.reshape(len(i),1)"
   ]
  },
  {
   "cell_type": "code",
   "execution_count": 63,
   "metadata": {},
   "outputs": [
    {
     "data": {
      "text/plain": [
       "(546, 1)"
      ]
     },
     "execution_count": 63,
     "metadata": {},
     "output_type": "execute_result"
    }
   ],
   "source": [
    "i.shape\n"
   ]
  },
  {
   "cell_type": "code",
   "execution_count": 64,
   "metadata": {},
   "outputs": [
    {
     "data": {
      "text/plain": [
       "2"
      ]
     },
     "execution_count": 64,
     "metadata": {},
     "output_type": "execute_result"
    }
   ],
   "source": [
    "\n",
    "i.ndim"
   ]
  },
  {
   "cell_type": "code",
   "execution_count": 65,
   "metadata": {
    "collapsed": true
   },
   "outputs": [],
   "source": [
    "t=mydata.iloc[:,1].values"
   ]
  },
  {
   "cell_type": "code",
   "execution_count": 66,
   "metadata": {},
   "outputs": [
    {
     "data": {
      "text/plain": [
       "(546,)"
      ]
     },
     "execution_count": 66,
     "metadata": {},
     "output_type": "execute_result"
    }
   ],
   "source": [
    "t.shape"
   ]
  },
  {
   "cell_type": "code",
   "execution_count": 67,
   "metadata": {
    "collapsed": true
   },
   "outputs": [],
   "source": [
    "from sklearn.model_selection import train_test_split"
   ]
  },
  {
   "cell_type": "code",
   "execution_count": 68,
   "metadata": {},
   "outputs": [],
   "source": [
    "xtrain,xtest,ytrain,ytest=train_test_split(i,t,test_size=0.5)"
   ]
  },
  {
   "cell_type": "code",
   "execution_count": 69,
   "metadata": {},
   "outputs": [
    {
     "data": {
      "text/plain": [
       "(273, 1)"
      ]
     },
     "execution_count": 69,
     "metadata": {},
     "output_type": "execute_result"
    }
   ],
   "source": [
    "xtrain.shape"
   ]
  },
  {
   "cell_type": "code",
   "execution_count": 71,
   "metadata": {},
   "outputs": [
    {
     "data": {
      "text/plain": [
       "(273,)"
      ]
     },
     "execution_count": 71,
     "metadata": {},
     "output_type": "execute_result"
    }
   ],
   "source": [
    "ytrain.shape"
   ]
  },
  {
   "cell_type": "code",
   "execution_count": 73,
   "metadata": {},
   "outputs": [
    {
     "data": {
      "text/plain": [
       "(273, 1)"
      ]
     },
     "execution_count": 73,
     "metadata": {},
     "output_type": "execute_result"
    }
   ],
   "source": [
    "xtest.shape"
   ]
  },
  {
   "cell_type": "code",
   "execution_count": 74,
   "metadata": {},
   "outputs": [
    {
     "data": {
      "text/plain": [
       "(273,)"
      ]
     },
     "execution_count": 74,
     "metadata": {},
     "output_type": "execute_result"
    }
   ],
   "source": [
    "ytest.shape"
   ]
  },
  {
   "cell_type": "code",
   "execution_count": 88,
   "metadata": {
    "collapsed": true
   },
   "outputs": [],
   "source": [
    "from matplotlib import pyplot as plt"
   ]
  },
  {
   "cell_type": "code",
   "execution_count": 89,
   "metadata": {},
   "outputs": [
    {
     "data": {
      "text/plain": [
       "[<matplotlib.lines.Line2D at 0xac63cf5c18>]"
      ]
     },
     "execution_count": 89,
     "metadata": {},
     "output_type": "execute_result"
    }
   ],
   "source": [
    "plt.plot(xtest,ytest,\"*r\")"
   ]
  },
  {
   "cell_type": "code",
   "execution_count": 90,
   "metadata": {},
   "outputs": [
    {
     "data": {
      "text/plain": [
       "<matplotlib.text.Text at 0xac63c7b160>"
      ]
     },
     "execution_count": 90,
     "metadata": {},
     "output_type": "execute_result"
    }
   ],
   "source": [
    "plt.xlabel(\"Lotsize\")"
   ]
  },
  {
   "cell_type": "code",
   "execution_count": 91,
   "metadata": {},
   "outputs": [
    {
     "data": {
      "text/plain": [
       "<matplotlib.text.Text at 0xac63c9d8d0>"
      ]
     },
     "execution_count": 91,
     "metadata": {},
     "output_type": "execute_result"
    }
   ],
   "source": [
    "plt.ylabel(\"price\")"
   ]
  },
  {
   "cell_type": "code",
   "execution_count": 92,
   "metadata": {},
   "outputs": [
    {
     "data": {
      "image/png": "[encoded data removed]",
      "text/plain": [
       "<matplotlib.figure.Figure at 0xac629a72b0>"
      ]
     },
     "metadata": {},
     "output_type": "display_data"
    }
   ],
   "source": [
    "plt.show()"
   ]
  },
  {
   "cell_type": "code",
   "execution_count": 84,
   "metadata": {},
   "outputs": [],
   "source": [
    "from sklearn.linear_model import LinearRegression"
   ]
  },
  {
   "cell_type": "code",
   "execution_count": 93,
   "metadata": {
    "collapsed": true
   },
   "outputs": [],
   "source": [
    "mylin=LinearRegression()"
   ]
  },
  {
   "cell_type": "code",
   "execution_count": 94,
   "metadata": {
    "collapsed": true
   },
   "outputs": [],
   "source": [
    "mymodel=mylin.fit(xtrain,ytrain)"
   ]
  },
  {
   "cell_type": "code",
   "execution_count": 95,
   "metadata": {
    "collapsed": true
   },
   "outputs": [],
   "source": [
    "yp = mymodel.predict(xtest)"
   ]
  },
  {
   "cell_type": "code",
   "execution_count": 99,
   "metadata": {},
   "outputs": [
    {
     "data": {
      "image/png": "[encoded data removed]",
      "text/plain": [
       "<matplotlib.figure.Figure at 0xac641cfd68>"
      ]
     },
     "metadata": {},
     "output_type": "display_data"
    }
   ],
   "source": [
    "import matplotlib.pyplot as plt\n",
    "plt.plot(xtest,ytest,\"*r\")\n",
    "plt.plot(xtest,yp,\"*b\")\n",
    "plt.show()"
   ]
  },
  {
   "cell_type": "code",
   "execution_count": 101,
   "metadata": {},
   "outputs": [
    {
     "data": {
      "text/plain": [
       "29944.911969089058"
      ]
     },
     "execution_count": 101,
     "metadata": {},
     "output_type": "execute_result"
    }
   ],
   "source": [
    "mymodel.intercept_"
   ]
  },
  {
   "cell_type": "code",
   "execution_count": 109,
   "metadata": {},
   "outputs": [],
   "source": [
    "slope=mymodel.coef_"
   ]
  },
  {
   "cell_type": "code",
   "execution_count": 100,
   "metadata": {
    "collapsed": true
   },
   "outputs": [],
   "source": [
    "from sklearn import metrics"
   ]
  },
  {
   "cell_type": "code",
   "execution_count": 103,
   "metadata": {
    "collapsed": true
   },
   "outputs": [],
   "source": [
    "c=metrics.r2_score(ytest,yp)"
   ]
  },
  {
   "cell_type": "code",
   "execution_count": 104,
   "metadata": {},
   "outputs": [
    {
     "data": {
      "text/plain": [
       "0.27729549264595554"
      ]
     },
     "execution_count": 104,
     "metadata": {},
     "output_type": "execute_result"
    }
   ],
   "source": [
    "c"
   ]
  },
  {
   "cell_type": "code",
   "execution_count": 105,
   "metadata": {
    "collapsed": true
   },
   "outputs": [],
   "source": [
    "d=metrics.mean_absolute_error(ytest,yp)"
   ]
  },
  {
   "cell_type": "code",
   "execution_count": 106,
   "metadata": {},
   "outputs": [
    {
     "data": {
      "text/plain": [
       "16841.015637771437"
      ]
     },
     "execution_count": 106,
     "metadata": {},
     "output_type": "execute_result"
    }
   ],
   "source": [
    "d"
   ]
  },
  {
   "cell_type": "code",
   "execution_count": 107,
   "metadata": {
    "collapsed": true
   },
   "outputs": [],
   "source": [
    "e=metrics.mean_squared_error(ytest,yp)"
   ]
  },
  {
   "cell_type": "code",
   "execution_count": 108,
   "metadata": {},
   "outputs": [
    {
     "data": {
      "text/plain": [
       "499970656.19994879"
      ]
     },
     "execution_count": 108,
     "metadata": {},
     "output_type": "execute_result"
    }
   ],
   "source": [
    "e"
   ]
  },
  {
   "cell_type": "code",
   "execution_count": null,
   "metadata": {
    "collapsed": true
   },
   "outputs": [],
   "source": []
  }
 ],
 "metadata": {
  "kernelspec": {
   "display_name": "Python 3",
   "language": "python",
   "name": "python3"
  },
  "language_info": {
   "codemirror_mode": {
    "name": "ipython",
    "version": 3
   },
   "file_extension": ".py",
   "mimetype": "text/x-python",
   "name": "python",
   "nbconvert_exporter": "python",
   "pygments_lexer": "ipython3",
   "version": "3.6.1"
  }
 },
 "nbformat": 4,
 "nbformat_minor": 2
}
