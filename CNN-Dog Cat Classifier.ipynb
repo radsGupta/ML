{
 "cells": [
  {
   "cell_type": "code",
   "execution_count": 28,
   "metadata": {},
   "outputs": [],
   "source": [
    "from keras.models import Sequential\n",
    "from keras.layers import Convolution2D\n",
    "from keras.layers import MaxPooling2D\n",
    "from keras.layers import Flatten\n",
    "from keras.layers import Dense"
   ]
  },
  {
   "cell_type": "code",
   "execution_count": 29,
   "metadata": {},
   "outputs": [],
   "source": [
    "classifier=Sequential()"
   ]
  },
  {
   "cell_type": "code",
   "execution_count": 30,
   "metadata": {},
   "outputs": [
    {
     "name": "stderr",
     "output_type": "stream",
     "text": [
      "C:\\Users\\Rads Gupta\\Anaconda3\\envs\\tensorflow\\lib\\site-packages\\ipykernel_launcher.py:1: UserWarning: Update your `Conv2D` call to the Keras 2 API: `Conv2D(32, (3, 3), input_shape=(64, 64, 3..., activation=\"relu\")`\n",
      "  \"\"\"Entry point for launching an IPython kernel.\n"
     ]
    }
   ],
   "source": [
    "classifier.add(Convolution2D(32,3,3, input_shape=(64,64,3), activation='relu'))"
   ]
  },
  {
   "cell_type": "code",
   "execution_count": 31,
   "metadata": {},
   "outputs": [],
   "source": [
    "classifier.add(MaxPooling2D(pool_size=(2,2)))"
   ]
  },
  {
   "cell_type": "code",
   "execution_count": 32,
   "metadata": {},
   "outputs": [],
   "source": [
    "classifier.add(Flatten())"
   ]
  },
  {
   "cell_type": "code",
   "execution_count": 33,
   "metadata": {},
   "outputs": [
    {
     "name": "stderr",
     "output_type": "stream",
     "text": [
      "C:\\Users\\Rads Gupta\\Anaconda3\\envs\\tensorflow\\lib\\site-packages\\ipykernel_launcher.py:1: UserWarning: Update your `Dense` call to the Keras 2 API: `Dense(activation=\"relu\", units=128)`\n",
      "  \"\"\"Entry point for launching an IPython kernel.\n"
     ]
    }
   ],
   "source": [
    "classifier.add(Dense(output_dim=128, activation='relu'))"
   ]
  },
  {
   "cell_type": "code",
   "execution_count": 34,
   "metadata": {},
   "outputs": [
    {
     "name": "stderr",
     "output_type": "stream",
     "text": [
      "C:\\Users\\Rads Gupta\\Anaconda3\\envs\\tensorflow\\lib\\site-packages\\ipykernel_launcher.py:1: UserWarning: Update your `Dense` call to the Keras 2 API: `Dense(activation=\"sigmoid\", units=1)`\n",
      "  \"\"\"Entry point for launching an IPython kernel.\n"
     ]
    }
   ],
   "source": [
    "classifier.add(Dense(output_dim=1, activation='sigmoid'))"
   ]
  },
  {
   "cell_type": "code",
   "execution_count": 35,
   "metadata": {},
   "outputs": [],
   "source": [
    "classifier.compile(optimizer='adam', loss='binary_crossentropy',metrics=['accuracy'])"
   ]
  },
  {
   "cell_type": "code",
   "execution_count": 36,
   "metadata": {},
   "outputs": [],
   "source": [
    "from keras.preprocessing.image import ImageDataGenerator\n"
   ]
  },
  {
   "cell_type": "code",
   "execution_count": 37,
   "metadata": {},
   "outputs": [],
   "source": [
    "train_datagen=ImageDataGenerator(rescale = 1./255,shear_range=0.2, zoom_range=0.2, horizontal_flip=True)"
   ]
  },
  {
   "cell_type": "code",
   "execution_count": 38,
   "metadata": {},
   "outputs": [],
   "source": [
    "test_datagen=ImageDataGenerator(rescale=1./255)"
   ]
  },
  {
   "cell_type": "code",
   "execution_count": 39,
   "metadata": {},
   "outputs": [
    {
     "name": "stdout",
     "output_type": "stream",
     "text": [
      "Found 8000 images belonging to 2 classes.\n"
     ]
    }
   ],
   "source": [
    "training_set = train_datagen.flow_from_directory(\"cat_dog_training_set\",target_size = (64, 64),batch_size = 32,class_mode = 'binary')\n"
   ]
  },
  {
   "cell_type": "code",
   "execution_count": 40,
   "metadata": {},
   "outputs": [
    {
     "name": "stdout",
     "output_type": "stream",
     "text": [
      "Found 2000 images belonging to 2 classes.\n"
     ]
    }
   ],
   "source": [
    "test_set = test_datagen.flow_from_directory(\"cat_dog_test_set\",target_size = (64, 64), batch_size = 32,class_mode = 'binary')"
   ]
  },
  {
   "cell_type": "code",
   "execution_count": 24,
   "metadata": {},
   "outputs": [
    {
     "name": "stderr",
     "output_type": "stream",
     "text": [
      "C:\\Users\\Rads Gupta\\Anaconda3\\envs\\tensorflow\\lib\\site-packages\\ipykernel_launcher.py:1: UserWarning: The semantics of the Keras 2 argument `steps_per_epoch` is not the same as the Keras 1 argument `samples_per_epoch`. `steps_per_epoch` is the number of batches to draw from the generator at each epoch. Basically steps_per_epoch = samples_per_epoch/batch_size. Similarly `nb_val_samples`->`validation_steps` and `val_samples`->`steps` arguments have changed. Update your method calls accordingly.\n",
      "  \"\"\"Entry point for launching an IPython kernel.\n",
      "C:\\Users\\Rads Gupta\\Anaconda3\\envs\\tensorflow\\lib\\site-packages\\ipykernel_launcher.py:1: UserWarning: Update your `fit_generator` call to the Keras 2 API: `fit_generator(<keras_pre..., validation_data=<keras_pre..., steps_per_epoch=250, epochs=25, validation_steps=2000)`\n",
      "  \"\"\"Entry point for launching an IPython kernel.\n"
     ]
    },
    {
     "name": "stdout",
     "output_type": "stream",
     "text": [
      "Epoch 1/25\n",
      "250/250 [==============================] - 826s 3s/step - loss: 0.7227 - acc: 0.6110 - val_loss: 0.6139 - val_acc: 0.6739\n",
      "Epoch 2/25\n",
      "250/250 [==============================] - 416s 2s/step - loss: 0.5911 - acc: 0.6854 - val_loss: 0.5737 - val_acc: 0.7099\n",
      "Epoch 3/25\n",
      "250/250 [==============================] - 401s 2s/step - loss: 0.5726 - acc: 0.7012 - val_loss: 0.5655 - val_acc: 0.7150\n",
      "Epoch 4/25\n",
      "250/250 [==============================] - 387s 2s/step - loss: 0.5570 - acc: 0.7161 - val_loss: 0.6184 - val_acc: 0.6834\n",
      "Epoch 5/25\n",
      "250/250 [==============================] - 402s 2s/step - loss: 0.5323 - acc: 0.7311 - val_loss: 0.5624 - val_acc: 0.7313\n",
      "Epoch 6/25\n",
      "250/250 [==============================] - 413s 2s/step - loss: 0.5229 - acc: 0.7384 - val_loss: 0.5529 - val_acc: 0.7245\n",
      "Epoch 7/25\n",
      "250/250 [==============================] - 348s 1s/step - loss: 0.5153 - acc: 0.7435 - val_loss: 0.5510 - val_acc: 0.7332\n",
      "Epoch 8/25\n",
      "250/250 [==============================] - 343s 1s/step - loss: 0.4994 - acc: 0.7530 - val_loss: 0.5267 - val_acc: 0.7521\n",
      "Epoch 9/25\n",
      "250/250 [==============================] - 344s 1s/step - loss: 0.4928 - acc: 0.7560 - val_loss: 0.5362 - val_acc: 0.7416\n",
      "Epoch 10/25\n",
      "250/250 [==============================] - 363s 1s/step - loss: 0.4732 - acc: 0.7688 - val_loss: 0.5832 - val_acc: 0.7284\n",
      "Epoch 11/25\n",
      "250/250 [==============================] - 347s 1s/step - loss: 0.4682 - acc: 0.7742 - val_loss: 0.6480 - val_acc: 0.7105\n",
      "Epoch 12/25\n",
      "250/250 [==============================] - 347s 1s/step - loss: 0.4621 - acc: 0.7744 - val_loss: 0.5211 - val_acc: 0.7691\n",
      "Epoch 13/25\n",
      "250/250 [==============================] - 339s 1s/step - loss: 0.4438 - acc: 0.7915 - val_loss: 0.5262 - val_acc: 0.7575\n",
      "Epoch 14/25\n",
      "250/250 [==============================] - 348s 1s/step - loss: 0.4463 - acc: 0.7894 - val_loss: 0.5267 - val_acc: 0.7643\n",
      "Epoch 15/25\n",
      "250/250 [==============================] - 342s 1s/step - loss: 0.4328 - acc: 0.7970 - val_loss: 0.5196 - val_acc: 0.7736\n",
      "Epoch 16/25\n",
      "250/250 [==============================] - 344s 1s/step - loss: 0.4124 - acc: 0.8152 - val_loss: 0.5456 - val_acc: 0.7679\n",
      "Epoch 17/25\n",
      "250/250 [==============================] - 341s 1s/step - loss: 0.4076 - acc: 0.8133 - val_loss: 0.6573 - val_acc: 0.7210\n",
      "Epoch 18/25\n",
      "250/250 [==============================] - 341s 1s/step - loss: 0.4004 - acc: 0.8175 - val_loss: 0.5714 - val_acc: 0.7455\n",
      "Epoch 19/25\n",
      "250/250 [==============================] - 379s 2s/step - loss: 0.3850 - acc: 0.8241 - val_loss: 0.6258 - val_acc: 0.7294\n",
      "Epoch 20/25\n",
      "250/250 [==============================] - 363s 1s/step - loss: 0.3798 - acc: 0.8284 - val_loss: 0.5298 - val_acc: 0.7613\n",
      "Epoch 21/25\n",
      "250/250 [==============================] - 1788s 7s/step - loss: 0.3666 - acc: 0.8360 - val_loss: 0.5292 - val_acc: 0.7771\n",
      "Epoch 22/25\n",
      "250/250 [==============================] - 332s 1s/step - loss: 0.3546 - acc: 0.8441 - val_loss: 0.5511 - val_acc: 0.7822\n",
      "Epoch 23/25\n",
      "250/250 [==============================] - 353s 1s/step - loss: 0.3511 - acc: 0.8411 - val_loss: 0.6269 - val_acc: 0.7419\n",
      "Epoch 24/25\n",
      "250/250 [==============================] - 374s 1s/step - loss: 0.3416 - acc: 0.8495 - val_loss: 0.5830 - val_acc: 0.7779\n",
      "Epoch 25/25\n",
      "250/250 [==============================] - 374s 1s/step - loss: 0.3264 - acc: 0.8579 - val_loss: 0.6033 - val_acc: 0.7660\n"
     ]
    },
    {
     "data": {
      "text/plain": [
       "<keras.callbacks.History at 0x391869d978>"
      ]
     },
     "execution_count": 24,
     "metadata": {},
     "output_type": "execute_result"
    }
   ],
   "source": [
    "classifier.fit_generator(training_set,samples_per_epoch =8000,nb_epoch =25,validation_data=test_set,nb_val_samples = 2000)"
   ]
  },
  {
   "cell_type": "code",
   "execution_count": null,
   "metadata": {},
   "outputs": [],
   "source": []
  },
  {
   "cell_type": "code",
   "execution_count": null,
   "metadata": {},
   "outputs": [],
   "source": []
  }
 ],
 "metadata": {
  "kernelspec": {
   "display_name": "Python 3",
   "language": "python",
   "name": "python3"
  },
  "language_info": {
   "codemirror_mode": {
    "name": "ipython",
    "version": 3
   },
   "file_extension": ".py",
   "mimetype": "text/x-python",
   "name": "python",
   "nbconvert_exporter": "python",
   "pygments_lexer": "ipython3",
   "version": "3.6.6"
  }
 },
 "nbformat": 4,
 "nbformat_minor": 2
}
