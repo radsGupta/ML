{
 "cells": [
  {
   "cell_type": "code",
   "execution_count": null,
   "metadata": {
    "collapsed": true
   },
   "outputs": [],
   "source": [
    "import cv2\n",
    "myimage=cv2.imread(r\"C:\\Users\\Rads Gupta\\Desktop\\csi.jpg\")\n",
    "cv2.imshow(\"mywindow\",myimage)\n",
    "k=cv2.waitKey(0)&0xff\n",
    "if k==27:\n",
    "     cv2.destroyAllWindows()\n",
    "elif k==ord('s'):\n",
    "    cv2.imwrite(r\"C:\\Users\\Rads Gupta\\Desktop\\pp.jpg\",myimage)\n",
    "    cv2.destroyAllWindows()"
   ]
  },
  {
   "cell_type": "code",
   "execution_count": null,
   "metadata": {
    "collapsed": true
   },
   "outputs": [],
   "source": []
  },
  {
   "cell_type": "code",
   "execution_count": null,
   "metadata": {
    "collapsed": true
   },
   "outputs": [],
   "source": []
  }
 ],
 "metadata": {
  "kernelspec": {
   "display_name": "Python 3",
   "language": "python",
   "name": "python3"
  },
  "language_info": {
   "codemirror_mode": {
    "name": "ipython",
    "version": 3
   },
   "file_extension": ".py",
   "mimetype": "text/x-python",
   "name": "python",
   "nbconvert_exporter": "python",
   "pygments_lexer": "ipython3",
   "version": "3.6.1"
  }
 },
 "nbformat": 4,
 "nbformat_minor": 2
}
